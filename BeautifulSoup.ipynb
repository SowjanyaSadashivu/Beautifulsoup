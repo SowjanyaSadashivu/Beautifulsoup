{
 "cells": [
  {
   "cell_type": "code",
   "execution_count": 6,
   "id": "bdc8f903",
   "metadata": {},
   "outputs": [
    {
     "data": {
      "text/plain": [
       "'4.11.1'"
      ]
     },
     "execution_count": 6,
     "metadata": {},
     "output_type": "execute_result"
    }
   ],
   "source": [
    "import bs4\n",
    "from bs4 import BeautifulSoup\n",
    "import os\n",
    "bs4.__version__"
   ]
  },
  {
   "cell_type": "markdown",
   "id": "9c215980",
   "metadata": {},
   "source": [
    "#### Helps us extract data from html file\n",
    "- finding by tag names\n",
    "- finding by class names\n",
    "- getting whole text\n",
    "- finding href\n",
    "\n",
    "\n"
   ]
  },
  {
   "cell_type": "code",
   "execution_count": 7,
   "id": "b8d62a17",
   "metadata": {},
   "outputs": [],
   "source": [
    "html_file = os.path.abspath(\"example_beautifulsoup.html\")"
   ]
  },
  {
   "cell_type": "code",
   "execution_count": 8,
   "id": "5c64d7f8",
   "metadata": {},
   "outputs": [
    {
     "data": {
      "text/plain": [
       "'/Users/Varad/Desktop/Sowjanya/Python_API/example_beautifulsoup.html'"
      ]
     },
     "execution_count": 8,
     "metadata": {},
     "output_type": "execute_result"
    }
   ],
   "source": [
    "html_file"
   ]
  },
  {
   "cell_type": "code",
   "execution_count": 9,
   "id": "3a6a98ee",
   "metadata": {},
   "outputs": [],
   "source": [
    "with open(html_file) as files:\n",
    "    soup = BeautifulSoup(files, \"html.parser\")"
   ]
  },
  {
   "cell_type": "markdown",
   "id": "20c8a3bb",
   "metadata": {},
   "source": [
    "#### HTML Parser is a tool for processing structured markup.\n",
    "- HTML parsing involves tokenization and tree construction.\n",
    "- Using it we can navigate HTML data to extract/delete/replace particular HTML elements. "
   ]
  },
  {
   "cell_type": "code",
   "execution_count": 10,
   "id": "a7f92ad0",
   "metadata": {},
   "outputs": [
    {
     "data": {
      "text/plain": [
       "<html>\n",
       "<head>\n",
       "<title>Your Title Here</title>\n",
       "</head>\n",
       "<body bgcolor=\"FFFFFF\">\n",
       "<center><img align=\"BOTTOM\" src=\"clouds.jpg\"/> </center>\n",
       "<hr/>\n",
       "<a href=\"http://somegreatsite.com\">Link Name</a>\n",
       "\n",
       "is a link to another nifty site\n",
       "\n",
       "<h1>This is a Header</h1>\n",
       "<h2>This is a Medium Header</h2>\n",
       "\n",
       "Send me mail at <a href=\"mailto:support@yourcompany.com\">\n",
       "\n",
       "support@yourcompany.com</a>.\n",
       "\n",
       "<p> This is a new paragraph!\n",
       "\n",
       "<p> <b>This is a new paragraph!</b>\n",
       "<br/> <b><i>This is a new sentence without a paragraph break, in bold italics.</i></b>\n",
       "<hr/>\n",
       "</p></p></body>\n",
       "</html>"
      ]
     },
     "execution_count": 10,
     "metadata": {},
     "output_type": "execute_result"
    }
   ],
   "source": [
    "soup"
   ]
  },
  {
   "cell_type": "markdown",
   "id": "1ab231a8",
   "metadata": {},
   "source": [
    "#### find by tag"
   ]
  },
  {
   "cell_type": "code",
   "execution_count": 11,
   "id": "f3f9fe84",
   "metadata": {},
   "outputs": [
    {
     "data": {
      "text/plain": [
       "<title>Your Title Here</title>"
      ]
     },
     "execution_count": 11,
     "metadata": {},
     "output_type": "execute_result"
    }
   ],
   "source": [
    "soup.head.title"
   ]
  },
  {
   "cell_type": "code",
   "execution_count": 15,
   "id": "2724b033",
   "metadata": {},
   "outputs": [
    {
     "data": {
      "text/plain": [
       "<title>Your Title Here</title>"
      ]
     },
     "execution_count": 15,
     "metadata": {},
     "output_type": "execute_result"
    }
   ],
   "source": [
    "soup.title"
   ]
  },
  {
   "cell_type": "code",
   "execution_count": 17,
   "id": "8aac789f",
   "metadata": {},
   "outputs": [
    {
     "data": {
      "text/plain": [
       "'Your Title Here'"
      ]
     },
     "execution_count": 17,
     "metadata": {},
     "output_type": "execute_result"
    }
   ],
   "source": [
    "#to get the content of tag\n",
    "soup.title.string"
   ]
  },
  {
   "cell_type": "markdown",
   "id": "4d6aa702",
   "metadata": {},
   "source": [
    "#### Modify the content of html file using beautiful soup"
   ]
  },
  {
   "cell_type": "code",
   "execution_count": 18,
   "id": "78611b3f",
   "metadata": {},
   "outputs": [],
   "source": [
    "title = soup.title.string\n"
   ]
  },
  {
   "cell_type": "code",
   "execution_count": 19,
   "id": "906e790d",
   "metadata": {},
   "outputs": [
    {
     "data": {
      "text/plain": [
       "'Your Title Here'"
      ]
     },
     "execution_count": 19,
     "metadata": {},
     "output_type": "execute_result"
    }
   ],
   "source": [
    "title"
   ]
  },
  {
   "cell_type": "code",
   "execution_count": 20,
   "id": "ef8b6953",
   "metadata": {},
   "outputs": [
    {
     "data": {
      "text/plain": [
       "'This is modified'"
      ]
     },
     "execution_count": 20,
     "metadata": {},
     "output_type": "execute_result"
    }
   ],
   "source": [
    "soup.title.string = \"This is modified\"\n",
    "soup.title.string"
   ]
  },
  {
   "cell_type": "code",
   "execution_count": 21,
   "id": "50c46278",
   "metadata": {},
   "outputs": [
    {
     "data": {
      "text/plain": [
       "<html>\n",
       "<head>\n",
       "<title>This is modified</title>\n",
       "</head>\n",
       "<body bgcolor=\"FFFFFF\">\n",
       "<center><img align=\"BOTTOM\" src=\"clouds.jpg\"/> </center>\n",
       "<hr/>\n",
       "<a href=\"http://somegreatsite.com\">Link Name</a>\n",
       "\n",
       "is a link to another nifty site\n",
       "\n",
       "<h1>This is a Header</h1>\n",
       "<h2>This is a Medium Header</h2>\n",
       "\n",
       "Send me mail at <a href=\"mailto:support@yourcompany.com\">\n",
       "\n",
       "support@yourcompany.com</a>.\n",
       "\n",
       "<p> This is a new paragraph!\n",
       "\n",
       "<p> <b>This is a new paragraph!</b>\n",
       "<br/> <b><i>This is a new sentence without a paragraph break, in bold italics.</i></b>\n",
       "<hr/>\n",
       "</p></p></body>\n",
       "</html>"
      ]
     },
     "execution_count": 21,
     "metadata": {},
     "output_type": "execute_result"
    }
   ],
   "source": [
    "soup"
   ]
  },
  {
   "cell_type": "markdown",
   "id": "9192da85",
   "metadata": {},
   "source": [
    "##### beautifulsoup object.tag.innertag"
   ]
  },
  {
   "cell_type": "code",
   "execution_count": 12,
   "id": "401f0704",
   "metadata": {},
   "outputs": [
    {
     "data": {
      "text/plain": [
       "<h1>This is a Header</h1>"
      ]
     },
     "execution_count": 12,
     "metadata": {},
     "output_type": "execute_result"
    }
   ],
   "source": [
    "soup.body.h1"
   ]
  },
  {
   "cell_type": "code",
   "execution_count": 13,
   "id": "9b9ac11f",
   "metadata": {},
   "outputs": [
    {
     "data": {
      "text/plain": [
       "[<a href=\"http://somegreatsite.com\">Link Name</a>,\n",
       " <a href=\"mailto:support@yourcompany.com\">\n",
       " \n",
       " support@yourcompany.com</a>]"
      ]
     },
     "execution_count": 13,
     "metadata": {},
     "output_type": "execute_result"
    }
   ],
   "source": [
    "soup.find_all(\"a\")"
   ]
  },
  {
   "cell_type": "markdown",
   "id": "4c785b3e",
   "metadata": {},
   "source": [
    "#### soup.prettify()\n",
    "\n",
    "- It formats the beautiful soup parse tree so that there each tag is on its own seperate line with indentation."
   ]
  },
  {
   "cell_type": "markdown",
   "id": "e5ca59a8",
   "metadata": {},
   "source": [
    "#### Get data from Website by using requests"
   ]
  },
  {
   "cell_type": "code",
   "execution_count": 22,
   "id": "16265570",
   "metadata": {},
   "outputs": [],
   "source": [
    "#get the prices of dresses from amazon\n",
    "\n",
    "\n",
    "import requests"
   ]
  },
  {
   "cell_type": "code",
   "execution_count": 26,
   "id": "a613256d",
   "metadata": {},
   "outputs": [],
   "source": [
    "url = \"url name\""
   ]
  },
  {
   "cell_type": "code",
   "execution_count": 27,
   "id": "1690aa47",
   "metadata": {},
   "outputs": [],
   "source": [
    "results = requests.get(url)"
   ]
  },
  {
   "cell_type": "code",
   "execution_count": 29,
   "id": "37bd2f0d",
   "metadata": {},
   "outputs": [],
   "source": [
    "data = BeautifulSoup(results.text, \"html.parser\")"
   ]
  },
  {
   "cell_type": "code",
   "execution_count": 30,
   "id": "dfc1d3d8",
   "metadata": {},
   "outputs": [
    {
     "data": {
      "text/plain": [
       "'Security block\\n'"
      ]
     },
     "execution_count": 30,
     "metadata": {},
     "output_type": "execute_result"
    }
   ],
   "source": [
    "data.prettify() #gives indented html file"
   ]
  },
  {
   "cell_type": "markdown",
   "id": "55948fef",
   "metadata": {},
   "source": [
    "#### Use find_all(text = \"\") to find a specific text\n",
    "- \"parent\" to get the complete tag lie of the value\n",
    "- find(\"string\") will search for string\n",
    "- and so on\n",
    "- if it is list of tags use [i]\n",
    "- data[0] will give first entry of tag type"
   ]
  },
  {
   "cell_type": "code",
   "execution_count": null,
   "id": "3dafa9f0",
   "metadata": {},
   "outputs": [],
   "source": []
  }
 ],
 "metadata": {
  "kernelspec": {
   "display_name": "Python 3 (ipykernel)",
   "language": "python",
   "name": "python3"
  },
  "language_info": {
   "codemirror_mode": {
    "name": "ipython",
    "version": 3
   },
   "file_extension": ".py",
   "mimetype": "text/x-python",
   "name": "python",
   "nbconvert_exporter": "python",
   "pygments_lexer": "ipython3",
   "version": "3.9.13"
  }
 },
 "nbformat": 4,
 "nbformat_minor": 5
}
